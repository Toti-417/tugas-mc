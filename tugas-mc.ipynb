{
 "cells": [
  {
   "cell_type": "code",
   "execution_count": null,
   "id": "ce5158ab-28e2-408b-ac8c-f28f3eb3944a",
   "metadata": {},
   "outputs": [],
   "source": [
    "Tugas Machine Learning"
   ]
  },
  {
   "cell_type": "markdown",
   "id": "ae2ca593-af7d-4ffd-bba0-f79239804ff9",
   "metadata": {},
   "source": [
    "Soal 1:"
   ]
  },
  {
   "cell_type": "markdown",
   "id": "be82a78c-a828-40e6-9ee7-9262d9dabf9e",
   "metadata": {},
   "source": [
    "Buatlah identitas diri menggunakan pemograman python sederhana"
   ]
  },
  {
   "cell_type": "code",
   "execution_count": 2,
   "id": "69624576-a712-41ca-bc83-f08f40278282",
   "metadata": {},
   "outputs": [
    {
     "name": "stdout",
     "output_type": "stream",
     "text": [
      "DATA DIRI\n",
      "Nama :  Toti Putra Pratama\n",
      "NIM :  20220801417\n",
      "Program Studi :  Teknik Informatika\n",
      "Fakultas : Ilmu Komputer\n"
     ]
    }
   ],
   "source": [
    "nama = \"Toti Putra Pratama\"\n",
    "nomor_induk_mahasiswa = \"20220801417\"\n",
    "program_studi = \"Teknik Informatika\"\n",
    "fakultas = \"Ilmu Komputer\"\n",
    "\n",
    "print(\"DATA DIRI\")\n",
    "print(\"Nama : \", nama)\n",
    "print(\"NIM : \", nomor_induk_mahasiswa)\n",
    "print(\"Program Studi : \", program_studi)\n",
    "print(\"Fakultas :\", fakultas)"
   ]
  },
  {
   "cell_type": "markdown",
   "id": "2626a6f9-472f-4de1-92db-4f1912bf3b3a",
   "metadata": {},
   "source": [
    "Soal 2"
   ]
  },
  {
   "cell_type": "markdown",
   "id": "5c2afaca-2c3d-43d6-b9f2-29cb9b2729be",
   "metadata": {},
   "source": [
    "Buatlah matriksC dengan orde 2x3, dan nilai yang diberikan pada matriksC adalah sebagai berikut:\n",
    "\n",
    "Baris 1 Kolom 1, nilai = 1\n",
    "Baris 1 Kolom 2, nilai = 2\n",
    "Baris 1 Kolom 3, nilai = 3\n",
    "Baris 2 Kolom 1, nilai = 4\n",
    "Baris 2 Kolom 2, nilai = 5\n",
    "Baris 2 Kolom 3, nilai = 6"
   ]
  },
  {
   "cell_type": "code",
   "execution_count": 5,
   "id": "ea107c19-348d-4888-84b7-1a45a8f60da6",
   "metadata": {},
   "outputs": [
    {
     "name": "stdout",
     "output_type": "stream",
     "text": [
      "[[1, 2, 3], [4, 5, 6]]\n"
     ]
    }
   ],
   "source": [
    "matriksC= [[1,2,3],[4,5,6]]\n",
    "print(matriksC)"
   ]
  },
  {
   "cell_type": "markdown",
   "id": "667d3fee-8d89-47b6-b640-60782c25e059",
   "metadata": {},
   "source": [
    "Soal 3"
   ]
  },
  {
   "cell_type": "markdown",
   "id": "1d6ed2ed-be96-40c2-965c-d450dc911039",
   "metadata": {},
   "source": [
    "Buatlah matriks dengan orde 3x2, dengan nilai adalah:\n",
    "\n",
    "Baris 1 Kolom 1, nilai = 2\n",
    "Baris 1 Kolom 2, nilai = 2\n",
    "Baris 2 Kolom 1, nilai = 2\n",
    "Baris 2 Kolom 2, nilai = 2\n",
    "Baris 3 Kolom 1, nilai = 2\n",
    "Baris 3 Kolom 2, nilai = 2"
   ]
  },
  {
   "cell_type": "code",
   "execution_count": 6,
   "id": "8ebfe119-48c9-46b4-a4dc-9913874e8549",
   "metadata": {},
   "outputs": [],
   "source": [
    "import numpy as np"
   ]
  },
  {
   "cell_type": "markdown",
   "id": "f115bcf7-d4af-4cfa-b2cf-e4f1ba081405",
   "metadata": {},
   "source": [
    "SOAL 5"
   ]
  },
  {
   "cell_type": "markdown",
   "id": "3cabe621-dbda-4d88-a126-034edd8f2667",
   "metadata": {},
   "source": [
    "Dengan memanfaatkan library numpy Buatlah matriks dengan menggunakan Library Numpy dengan panjang elemen adalah 32 dan matriks memiliki orde 4x8"
   ]
  },
  {
   "cell_type": "code",
   "execution_count": 7,
   "id": "305b5b64-9df7-4df1-bc03-00b9296f450e",
   "metadata": {},
   "outputs": [
    {
     "name": "stdout",
     "output_type": "stream",
     "text": [
      "[[ 0  1  2  3  4  5  6  7]\n",
      " [ 8  9 10 11 12 13 14 15]\n",
      " [16 17 18 19 20 21 22 23]\n",
      " [24 25 26 27 28 29 30 31]]\n"
     ]
    }
   ],
   "source": [
    "from numpy import *\n",
    "matriks = range(32)\n",
    "matriks = reshape(matriks, (4,8))\n",
    "print(matriks)"
   ]
  },
  {
   "cell_type": "markdown",
   "id": "8a8057f3-0ab9-44b7-bb88-2d46d7b933b6",
   "metadata": {},
   "source": [
    "Soal 6"
   ]
  },
  {
   "cell_type": "markdown",
   "id": "fdce27ff-8a3f-445d-b8d2-27ba4df2a20d",
   "metadata": {},
   "source": [
    "Buatlah matriks dengan menggunakan Library Numpy dengan orde 3x30, dan nilai elemen dimulai dari indeks 1 sampai dengan 5 secara random."
   ]
  },
  {
   "cell_type": "code",
   "execution_count": 8,
   "id": "1c572688-eb8d-40b5-a675-9196829ad4b8",
   "metadata": {},
   "outputs": [
    {
     "name": "stdout",
     "output_type": "stream",
     "text": [
      "[[4 2 4 4 3 2 3 2 4 1 2 3 2 1 1 2 2 3 3 4 4 1 2 1 1 3 4 4 2 4]\n",
      " [1 4 2 2 2 4 4 2 4 2 3 2 4 3 1 2 4 3 2 1 4 1 4 1 4 2 2 2 4 4]\n",
      " [1 2 4 1 4 1 4 1 2 1 3 3 2 1 4 3 2 2 1 3 4 3 1 1 3 4 3 1 4 4]]\n"
     ]
    }
   ],
   "source": [
    "#jawaban 6\n",
    "import numpy as np\n",
    "from numpy import *\n",
    "\n",
    "matriks = np.random.randint(1,5,(3,30))\n",
    "print(matriks)"
   ]
  }
 ],
 "metadata": {
  "kernelspec": {
   "display_name": "Python 3 (ipykernel)",
   "language": "python",
   "name": "python3"
  },
  "language_info": {
   "codemirror_mode": {
    "name": "ipython",
    "version": 3
   },
   "file_extension": ".py",
   "mimetype": "text/x-python",
   "name": "python",
   "nbconvert_exporter": "python",
   "pygments_lexer": "ipython3",
   "version": "3.10.6"
  }
 },
 "nbformat": 4,
 "nbformat_minor": 5
}
